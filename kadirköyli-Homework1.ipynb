{
 "cells": [
  {
   "cell_type": "code",
   "execution_count": null,
   "metadata": {},
   "outputs": [],
   "source": [
    "print(\"denkleminiz ax^2+bx+c şeklinde olmalı\")\n",
    "a=int(input(\"lutfen a değerini giriniz \"))\n",
    "b=int(input(\"lutfen b değerini giriniz \"))\n",
    "c=int(input(\"lutfen c değerini giriniz \"))\n",
    "print(\"girdiğiniz değerler =\",a,\"x^2\" \"+\"  ,b,\"x\" \"+\" ,c)\n",
    "\n",
    "d=(b**2)-(4*a*c)\n",
    "delta=d**0.5\n",
    "print(\"delta =\",d)\n",
    "e=delta-b\n",
    "f=a*2\n",
    "x1=e/f\n",
    "print(\"birinci kok =\", x1)\n",
    "h=-delta-b\n",
    "x2=h/f\n",
    "print(\"ikinci kok =\", x2)"
   ]
  }
 ],
 "metadata": {
  "kernelspec": {
   "display_name": "Python 3",
   "language": "python",
   "name": "python3"
  },
  "language_info": {
   "codemirror_mode": {
    "name": "ipython",
    "version": 3
   },
   "file_extension": ".py",
   "mimetype": "text/x-python",
   "name": "python",
   "nbconvert_exporter": "python",
   "pygments_lexer": "ipython3",
   "version": "3.7.3"
  }
 },
 "nbformat": 4,
 "nbformat_minor": 2
}
