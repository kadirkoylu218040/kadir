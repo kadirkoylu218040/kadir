{
 "cells": [
  {
   "cell_type": "code",
   "execution_count": 3,
   "metadata": {},
   "outputs": [
    {
     "name": "stdout",
     "output_type": "stream",
     "text": [
      "lutfen 1-3 arasinda bir sayi giriniz\n",
      "3\n",
      "aritmetik ort. hesaplama programina hosgeldiniz\n",
      "\n",
      "lutfen 6 adet sayi giriniz\n",
      "\n",
      "89\n",
      "45\n",
      "56\n",
      "12\n",
      "0\n",
      "0\n",
      "girdiginiz sayilarin aritmetik ortalamasi= 33.666666666666664\n"
     ]
    }
   ],
   "source": [
    "import scipy as sc\n",
    "import numpy as np\n",
    "\n",
    "x=int(input(\"lutfen 1-3 arasinda bir sayi giriniz\\n\"))\n",
    "if x==1:\n",
    "    print(\"hipotenus hesaplama programına hoşgeldiniz\\n\") \n",
    "    a=int(input(\"lutfen bir dik kenarin uzunlugunu giriniz\\n\"))\n",
    "    b=int(input(\"lutfen diger dik kenarin uzunlugunu giriniz\\n\"))\n",
    "    h=((a*a)+(b*b))**0.5\n",
    "    print(\"hipotenusun uzunlugu:\",h)\n",
    "elif x==2:\n",
    "    print(\"lutfen bir sayi girin ve 1den itibaren sayalim\")\n",
    "    c=int(input())\n",
    "    d=1\n",
    "    while c>=d:\n",
    "        print(d)\n",
    "        d=d+1\n",
    "        \n",
    "elif x==3:\n",
    "    print(\"aritmetik ort. hesaplama programina hosgeldiniz\\n\")\n",
    "    print(\"lutfen 6 adet sayi giriniz\\n\")\n",
    "    e=int(input())\n",
    "    r=int(input())\n",
    "    t=int(input())\n",
    "    y=int(input())\n",
    "    u=int(input())\n",
    "    i=int(input())\n",
    "    p=e+r+t+y+u+i\n",
    "    ort=p/6\n",
    "    print(\"girdiginiz sayilarin aritmetik ortalamasi=\",ort)\n",
    "    \n",
    "else:{\n",
    "    print(\"girdiginiz sayi 1-3 arasinda değildir lutfen programi kapatip yeniden deneyiniz\")\n",
    "}"
   ]
  },
  {
   "cell_type": "code",
   "execution_count": null,
   "metadata": {},
   "outputs": [],
   "source": []
  }
 ],
 "metadata": {
  "kernelspec": {
   "display_name": "Python 3",
   "language": "python",
   "name": "python3"
  },
  "language_info": {
   "codemirror_mode": {
    "name": "ipython",
    "version": 3
   },
   "file_extension": ".py",
   "mimetype": "text/x-python",
   "name": "python",
   "nbconvert_exporter": "python",
   "pygments_lexer": "ipython3",
   "version": "3.7.3"
  }
 },
 "nbformat": 4,
 "nbformat_minor": 2
}
